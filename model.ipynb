{
 "cells": [
  {
   "cell_type": "code",
   "execution_count": 1,
   "metadata": {},
   "outputs": [],
   "source": [
    "import torch\n",
    "import torch.nn as nn"
   ]
  },
  {
   "cell_type": "code",
   "execution_count": 2,
   "metadata": {},
   "outputs": [],
   "source": [
    "GPT_CONFIG_124M = {\n",
    "    \"vocab_size\": 50257,     # 어휘 개수\n",
    "    \"context_length\": 1024,  # 컨텍스트 길이\n",
    "    \"emb_dim\": 768,          # 임베딩 차원\n",
    "    \"n_heads\": 12,           # 어텐션 헤드 수\n",
    "    \"n_layers\": 12,          # 트랜스포머 블럭 수\n",
    "    \"drop_rate\": 0.1,        # 드롭아웃 비율\n",
    "    \"qkv_bias\": False        # Query-Key-Value 레이어의 바이어스 사용 여부\n",
    "}\n"
   ]
  },
  {
   "cell_type": "code",
   "execution_count": 3,
   "metadata": {},
   "outputs": [],
   "source": [
    "class DummyGPTModel(nn.Module):\n",
    "    def __init__(self, cfg):\n",
    "        super().__init__()\n",
    "        self.tok_emb = nn.Embedding(cfg[\"vocab_size\"], cfg[\"emb_dim\"])\n",
    "        self.pos_emb = nn.Embedding(cfg[\"context_length\"], cfg[\"emb_dim\"])\n",
    "        self.drop_emb = nn.Dropout(cfg[\"drop_rate\"])\n",
    "        self.trf_blocks = nn.Sequential(\n",
    "            *[DummyTransformerBlock(cfg)\n",
    "              for _ in range(cfg[\"n_layers\"])\n",
    "            ])\n",
    "        self.final_norm = DummyLayerNorm(cfg[\"emb_dim\"])\n",
    "        self.out_head = nn.Linear(\n",
    "            cfg[\"emb_dim\"], cfg[\"vocab_size\"], bias=False\n",
    "        )\n",
    "    \n",
    "    def forward(self, in_idx):\n",
    "        batch_size, seq_len = in_idx.shape\n",
    "        tok_embeds = self.tok_emb(in_idx)\n",
    "        pos_embeds = self.pos_emb(\n",
    "            torch.arange(seq_len, device=in_idx.device)\n",
    "        )\n",
    "        x = tok_embeds + pos_embeds\n",
    "        x = self.drop_emb(x)\n",
    "        x = self.trf_blocks(x)\n",
    "        x = self.final_norm(x)\n",
    "        logits = self.out_head(x)\n",
    "        return logits\n",
    "\n",
    "class DummyTransformerBlock(nn.Module):\n",
    "    def __init__(self, cfg):\n",
    "        super().__init__()\n",
    "\n",
    "    def forward(self,x):\n",
    "        return x\n",
    "\n",
    "class DummyLayerNorm(nn.Module):\n",
    "    def __init__(self, normalized_shape, eps=1e-5):\n",
    "        super().__init__()\n",
    "    def forward(self, x):\n",
    "        return x\n"
   ]
  },
  {
   "cell_type": "code",
   "execution_count": 4,
   "metadata": {},
   "outputs": [],
   "source": [
    "import tiktoken"
   ]
  },
  {
   "cell_type": "code",
   "execution_count": 5,
   "metadata": {},
   "outputs": [
    {
     "name": "stdout",
     "output_type": "stream",
     "text": [
      "tensor([[6109, 3626, 6100,  345],\n",
      "        [6109, 1110, 6622,  257]])\n"
     ]
    }
   ],
   "source": [
    "tokenizer = tiktoken.get_encoding('gpt2')\n",
    "batch = []\n",
    "txt1 = \"Every effort moves you\"\n",
    "txt2 = \"Every day holds a\"\n",
    "\n",
    "batch.append(torch.tensor(tokenizer.encode(txt1)))\n",
    "batch.append(torch.tensor(tokenizer.encode(txt2)))\n",
    "batch = torch.stack(batch, dim=0)\n",
    "print(batch)"
   ]
  },
  {
   "cell_type": "code",
   "execution_count": 6,
   "metadata": {},
   "outputs": [
    {
     "name": "stdout",
     "output_type": "stream",
     "text": [
      "Output shape: torch.Size([2, 4, 50257])\n",
      "tensor([[[-1.2034,  0.3201, -0.7130,  ..., -1.5548, -0.2390, -0.4667],\n",
      "         [-0.1192,  0.4539, -0.4432,  ...,  0.2392,  1.3469,  1.2430],\n",
      "         [ 0.5307,  1.6720, -0.4695,  ...,  1.1966,  0.0111,  0.5835],\n",
      "         [ 0.0139,  1.6754, -0.3388,  ...,  1.1586, -0.0435, -1.0400]],\n",
      "\n",
      "        [[-1.0908,  0.1798, -0.9484,  ..., -1.6047,  0.2439, -0.4530],\n",
      "         [-0.7860,  0.5581, -0.0610,  ...,  0.4835, -0.0077,  1.6621],\n",
      "         [ 0.3567,  1.2698, -0.6398,  ..., -0.0162, -0.1296,  0.3717],\n",
      "         [-0.2407, -0.7349, -0.5102,  ...,  2.0057, -0.3694,  0.1814]]],\n",
      "       grad_fn=<UnsafeViewBackward0>)\n"
     ]
    }
   ],
   "source": [
    "torch.manual_seed(123)\n",
    "model = DummyGPTModel(GPT_CONFIG_124M)\n",
    "logits = model(batch)\n",
    "print(\"Output shape:\", logits.shape)\n",
    "print(logits)\n"
   ]
  },
  {
   "cell_type": "code",
   "execution_count": 7,
   "metadata": {},
   "outputs": [
    {
     "name": "stdout",
     "output_type": "stream",
     "text": [
      "tensor([[0.2260, 0.3470, 0.0000, 0.2216, 0.0000, 0.0000],\n",
      "        [0.2133, 0.2394, 0.0000, 0.5198, 0.3297, 0.0000]],\n",
      "       grad_fn=<ReluBackward0>)\n"
     ]
    }
   ],
   "source": [
    "#레이어 정규화를 통해 레이어의 여섯 개 출력(활성화)이 평균 0, 분산 1로 정규화되는 과정\n",
    "torch.manual_seed(123)\n",
    "batch_example = torch.randn(2, 5)     #1\n",
    "layer = nn.Sequential(nn.Linear(5, 6), nn.ReLU())\n",
    "out = layer(batch_example)\n",
    "print(out)\n",
    "#1 다섯 차원(특징)을 가진 두 개의 훈련 예제를 생성"
   ]
  },
  {
   "cell_type": "code",
   "execution_count": 8,
   "metadata": {},
   "outputs": [
    {
     "name": "stdout",
     "output_type": "stream",
     "text": [
      "Mean:\n",
      " tensor([[0.1324],\n",
      "        [0.2170]], grad_fn=<MeanBackward1>)\n",
      "Variance:\n",
      " tensor([[0.0231],\n",
      "        [0.0398]], grad_fn=<VarBackward0>)\n"
     ]
    }
   ],
   "source": [
    "#keepdim=True 옵션을 사용하면, 평균이나 분산 계산을 할 때 입력 텐서와 동일한 차원을 유지\n",
    "#dim 파라미터의 사용 예시. 2차원 텐서(매트릭스)에서 dim=0은 행을 따라 수직으로 계산을 수행\n",
    "#dim=1 또는 dim=-1은 열을 따라 수평으로 계산을 수행\n",
    "mean = out.mean(dim=-1, keepdim=True)\n",
    "var = out.var(dim=-1, keepdim=True)\n",
    "print(\"Mean:\\n\", mean)\n",
    "print(\"Variance:\\n\", var)"
   ]
  },
  {
   "cell_type": "code",
   "execution_count": 9,
   "metadata": {},
   "outputs": [
    {
     "name": "stdout",
     "output_type": "stream",
     "text": [
      "Normalized layer outputs:\n",
      " tensor([[ 0.6159,  1.4126, -0.8719,  0.5872, -0.8719, -0.8719],\n",
      "        [-0.0189,  0.1121, -1.0876,  1.5173,  0.5647, -1.0876]],\n",
      "       grad_fn=<DivBackward0>)\n",
      "Mean:\n",
      " tensor([[-5.9605e-08],\n",
      "        [ 1.9868e-08]], grad_fn=<MeanBackward1>)\n",
      "Variance:\n",
      " tensor([[1.0000],\n",
      "        [1.0000]], grad_fn=<VarBackward0>)\n"
     ]
    }
   ],
   "source": [
    "out_norm = (out - mean) / torch.sqrt(var)\n",
    "mean = out_norm.mean(dim=-1, keepdim=True)\n",
    "var = out_norm.var(dim=-1, keepdim=True)\n",
    "print(\"Normalized layer outputs:\\n\", out_norm)\n",
    "#평균값은 정확하게 0이 아니라 0에 가까움.\n",
    "print(\"Mean:\\n\", mean)\n",
    "print(\"Variance:\\n\", var)"
   ]
  },
  {
   "cell_type": "code",
   "execution_count": 10,
   "metadata": {},
   "outputs": [],
   "source": [
    "class LayerNorm(nn.Module):\n",
    "    def __init__(self, emb_dim):\n",
    "        super().__init__()\n",
    "        self.eps = 1e-5\n",
    "        self.scale = nn.Parameter(torch.ones(emb_dim))\n",
    "        self.shift = nn.Parameter(torch.zeros(emb_dim))\n",
    "\n",
    "    def forward(self, x):\n",
    "        mean = x.mean(dim=-1, keepdim=True)\n",
    "        var = x.var(dim=-1, keepdim=True, unbiased=False)\n",
    "        #eps는 분산을 계산할 때 0으로 나누는 것을 방지하기 위한 작은 상수\n",
    "        norm_x = (x-mean) / torch.sqrt(var + self.eps)\n",
    "        return self.scale * norm_x + self.shift"
   ]
  },
  {
   "cell_type": "code",
   "execution_count": 11,
   "metadata": {},
   "outputs": [],
   "source": [
    "shift = nn.Parameter(torch.ones(6))"
   ]
  },
  {
   "cell_type": "code",
   "execution_count": 12,
   "metadata": {},
   "outputs": [
    {
     "name": "stdout",
     "output_type": "stream",
     "text": [
      "Mean:\n",
      " tensor([[-2.9802e-08],\n",
      "        [ 0.0000e+00]], grad_fn=<MeanBackward1>)\n",
      "Variance:\n",
      " tensor([[1.0000],\n",
      "        [1.0000]], grad_fn=<VarBackward0>)\n"
     ]
    }
   ],
   "source": [
    "ln = LayerNorm(emb_dim=5)\n",
    "out_ln = ln(batch_example)\n",
    "mean = out_ln.mean(dim=-1, keepdim=True)\n",
    "var = out_ln.var(dim=-1, unbiased=False, keepdim=True)\n",
    "print(\"Mean:\\n\", mean)\n",
    "print(\"Variance:\\n\", var)"
   ]
  },
  {
   "cell_type": "code",
   "execution_count": 13,
   "metadata": {},
   "outputs": [],
   "source": [
    "# 배치 정규화\n",
    "batch_norm = nn.BatchNorm1d(128)\n",
    "input_data = torch.randn(32, 10, 128)\n",
    "output = batch_norm(input_data.view(-1, 128)).view(32, 10, 128)"
   ]
  },
  {
   "cell_type": "code",
   "execution_count": 14,
   "metadata": {},
   "outputs": [
    {
     "data": {
      "text/plain": [
       "tensor([[[-0.3397, -2.3453, -0.8605,  ..., -0.0711, -0.5448,  0.2233],\n",
       "         [-0.3195,  0.7606,  0.5951,  ..., -1.4343, -0.2171, -1.4330],\n",
       "         [ 0.1684, -0.7851,  0.6169,  ...,  1.1216, -0.4468,  0.8149],\n",
       "         ...,\n",
       "         [ 0.8165, -0.1474,  2.2680,  ..., -0.0432, -1.9578,  0.7767],\n",
       "         [ 0.5767,  0.7123,  0.2469,  ..., -0.1356,  0.2980,  0.1371],\n",
       "         [-1.8917,  0.2867, -0.5463,  ...,  0.5385, -2.2097,  0.8096]],\n",
       "\n",
       "        [[ 0.8657, -0.4449, -0.8746,  ...,  0.0630, -1.5567,  0.3531],\n",
       "         [-0.7195, -0.9594, -0.7872,  ..., -0.6646, -1.1125, -0.1751],\n",
       "         [ 0.7149, -1.2321, -0.5341,  ...,  0.3598,  0.1370,  0.5411],\n",
       "         ...,\n",
       "         [ 0.4557,  0.7597, -1.7178,  ...,  1.4296,  1.1494, -0.2712],\n",
       "         [ 1.1831,  0.1508,  0.5671,  ...,  0.5754,  0.3558, -0.0843],\n",
       "         [-0.6465,  1.2306,  1.7140,  ...,  0.5245,  0.2985, -0.7215]],\n",
       "\n",
       "        [[-0.0226, -1.0585, -0.2310,  ..., -0.6487, -0.5211,  0.4987],\n",
       "         [ 1.0421, -1.4149,  0.8045,  ..., -0.8543,  0.0887, -0.0297],\n",
       "         [-0.1008,  0.7152, -0.2508,  ...,  0.1460, -0.3842, -0.8830],\n",
       "         ...,\n",
       "         [ 0.5143,  0.1479,  0.6629,  ...,  1.8730,  0.2686,  0.0601],\n",
       "         [ 0.4301, -1.9515, -1.9205,  ...,  0.4178, -0.0670, -0.0386],\n",
       "         [ 0.4432,  0.3066, -0.3020,  ...,  2.4041, -0.1453, -0.7620]],\n",
       "\n",
       "        ...,\n",
       "\n",
       "        [[-2.1493, -0.9801, -0.8294,  ..., -0.0964,  0.8927, -1.2956],\n",
       "         [ 0.0095, -0.0399,  2.5580,  ...,  0.7634, -2.1926, -0.0665],\n",
       "         [ 0.0369,  1.0276,  1.2624,  ..., -1.5106, -0.3496,  1.1811],\n",
       "         ...,\n",
       "         [-1.4342, -1.1659,  0.9694,  ...,  1.7399, -0.2402, -0.2421],\n",
       "         [ 0.7611,  1.3433, -0.8736,  ..., -0.5766, -1.3756,  0.7618],\n",
       "         [ 0.5265,  0.7812, -1.0827,  ..., -0.3075,  0.8087, -0.0749]],\n",
       "\n",
       "        [[ 1.1308, -0.2574, -0.3073,  ...,  1.4853,  2.0949, -0.6126],\n",
       "         [-0.2955, -1.4777, -1.0919,  ..., -0.7053, -1.1617,  1.3855],\n",
       "         [-0.0846, -2.3411, -0.8023,  ...,  0.3813,  0.3884, -0.6214],\n",
       "         ...,\n",
       "         [-1.3348, -0.8145, -0.1733,  ..., -1.0725, -0.2180,  0.7545],\n",
       "         [-1.8369, -1.1788, -0.2877,  ...,  1.3750, -0.4465,  1.0555],\n",
       "         [-0.5366, -1.4981,  0.2723,  ...,  1.5697,  1.9075,  0.7601]],\n",
       "\n",
       "        [[ 0.1436,  0.0593, -0.5206,  ..., -1.6255,  2.6506,  0.2744],\n",
       "         [ 0.2146,  0.6594, -0.8090,  ...,  0.7797,  1.6742,  0.9087],\n",
       "         [ 0.7228, -0.7615, -2.2279,  ...,  0.6698, -0.3219,  0.2628],\n",
       "         ...,\n",
       "         [ 0.3181,  0.8567,  1.1933,  ..., -0.0050, -0.2549, -0.0338],\n",
       "         [-0.8874, -2.5845, -0.0876,  ...,  0.0310,  0.5452, -0.7968],\n",
       "         [ 0.3087, -1.6318,  0.6411,  ..., -0.4489, -0.3973,  0.4562]]],\n",
       "       grad_fn=<ViewBackward0>)"
      ]
     },
     "execution_count": 14,
     "metadata": {},
     "output_type": "execute_result"
    }
   ],
   "source": [
    "output"
   ]
  },
  {
   "cell_type": "code",
   "execution_count": 15,
   "metadata": {},
   "outputs": [],
   "source": [
    "class GELU(nn.Module):\n",
    "    def __init__(self):\n",
    "        super().__init__()\n",
    "\n",
    "    def forward(self, x):\n",
    "        return 0.5 * x * (1 + torch.tanh(\n",
    "            torch.sqrt(torch.tensor(2.0 / torch.pi)) * \n",
    "            (x + 0.044715 * torch.pow(x, 3))\n",
    "        ))"
   ]
  },
  {
   "cell_type": "code",
   "execution_count": 16,
   "metadata": {},
   "outputs": [
    {
     "data": {
      "image/png": "[encoded data removed]",
      "text/plain": [
       "<Figure size 800x300 with 2 Axes>"
      ]
     },
     "metadata": {},
     "output_type": "display_data"
    }
   ],
   "source": [
    "import matplotlib.pyplot as plt\n",
    "import numpy as np\n",
    "\n",
    "gelu, relu = GELU(), nn.ReLU()\n",
    "\n",
    "x = torch.linspace(-3, 3, 100)  \n",
    "y_gelu, y_relu = gelu(x), relu(x)\n",
    "plt.figure(figsize=(8, 3))\n",
    "for i, (y, label) in enumerate(zip([y_gelu, y_relu], [\"GELU\", \"ReLU\"]), 1):\n",
    "    plt.subplot(1, 2, i)\n",
    "    plt.plot(x, y)\n",
    "    plt.title(f\"{label} activation function\")\n",
    "    plt.xlabel(\"x\")\n",
    "    plt.ylabel(f\"{label}(x)\")\n",
    "    plt.grid(True)\n",
    "plt.tight_layout()\n",
    "plt.show()"
   ]
  },
  {
   "cell_type": "code",
   "execution_count": 17,
   "metadata": {},
   "outputs": [],
   "source": [
    "class FeedForward(nn.Module):\n",
    "    def __init__(self, cfg):\n",
    "        super().__init__()\n",
    "        self.layers = nn.Sequential(\n",
    "            nn.Linear(cfg[\"emb_dim\"], 4 * cfg[\"emb_dim\"]),\n",
    "            GELU(),\n",
    "            nn.Linear(4 * cfg[\"emb_dim\"], cfg[\"emb_dim\"]),\n",
    "        )\n",
    "\n",
    "    def forward(self, x):\n",
    "        return self.layers(x)"
   ]
  },
  {
   "cell_type": "code",
   "execution_count": 18,
   "metadata": {},
   "outputs": [
    {
     "name": "stdout",
     "output_type": "stream",
     "text": [
      "torch.Size([2, 3, 768])\n"
     ]
    }
   ],
   "source": [
    "ffn = FeedForward(GPT_CONFIG_124M)\n",
    "x = torch.rand(2, 3, 768)\n",
    "out = ffn(x)\n",
    "print(out.shape)"
   ]
  },
  {
   "cell_type": "code",
   "execution_count": 19,
   "metadata": {},
   "outputs": [],
   "source": [
    "class ExampleDeepNeuralNetwork(nn.Module):\n",
    "    def __init__(self, layer_sizes, use_shortcut):\n",
    "        super().__init__()\n",
    "        # use_shortcut은 네트워크에서 잔차 연결(shortcut connection)을 사용할지 여부를 결정하는 플래그\n",
    "        self.use_shortcut = use_shortcut\n",
    "        # 네트워크의 각 층을 nn.ModuleList에 저장. 각 층은 nn.Sequential을 사용해 선형 레이어와 GELU 활성화 함수로 구성됨\n",
    "        self.layers = nn.ModuleList([\n",
    "            nn.Sequential(nn.Linear(layer_sizes[0], layer_sizes[1]), \n",
    "                          GELU()),\n",
    "            nn.Sequential(nn.Linear(layer_sizes[1], layer_sizes[2]), \n",
    "                          GELU()),\n",
    "            nn.Sequential(nn.Linear(layer_sizes[2], layer_sizes[3]), \n",
    "                          GELU()),\n",
    "            nn.Sequential(nn.Linear(layer_sizes[3], layer_sizes[4]), \n",
    "                          GELU()),\n",
    "            nn.Sequential(nn.Linear(layer_sizes[4], layer_sizes[5]), \n",
    "                          GELU())\n",
    "        ])\n",
    "\n",
    "    def forward(self, x):\n",
    "        # 각 레이어를 순차적으로 거치며 데이터를 처리\n",
    "        for layer in self.layers:\n",
    "            layer_output = layer(x) \n",
    "            # use_shortcut이 True이고, 입력 x와 layer_output의 shape이 동일한 경우에만 잔차 연결 적용\n",
    "            if self.use_shortcut and x.shape == layer_output.shape:\n",
    "                x = x + layer_output\n",
    "            else:\n",
    "                x = layer_output\n",
    "        return x"
   ]
  },
  {
   "cell_type": "code",
   "execution_count": 20,
   "metadata": {},
   "outputs": [],
   "source": [
    "layer_sizes = [3, 3, 3, 3, 3, 1]  \n",
    "sample_input = torch.tensor([[1., 0., -1.]])\n",
    "torch.manual_seed(123)\n",
    "model_without_shortcut = ExampleDeepNeuralNetwork(\n",
    "    layer_sizes, use_shortcut=False\n",
    ")"
   ]
  },
  {
   "cell_type": "code",
   "execution_count": 21,
   "metadata": {},
   "outputs": [],
   "source": [
    "def print_gradients(model, x):\n",
    "    output = model(x)\n",
    "    # 목표(target)값을 0으로 설정, 예를 들어 회귀 문제에서 목표값이 0인 경우\n",
    "    target = torch.tensor([[0.]])\n",
    "    # 손실 함수로 평균 제곱 오차(MSE)를 사용\n",
    "    loss = nn.MSELoss()\n",
    "    loss = loss(output, target)    \n",
    "    # 모델 출력값과 목표값 간의 손실을 계산\n",
    "    loss.backward()          \n",
    "\n",
    "    for name, param in model.named_parameters():\n",
    "        if 'weight' in name:\n",
    "            # 각 weight 파라미터의 절대값을 취한 후 그 평균값을 출력\n",
    "            print(f\"{name} has gradient mean of {param.grad.abs().mean().item()}\")"
   ]
  },
  {
   "cell_type": "code",
   "execution_count": 22,
   "metadata": {},
   "outputs": [
    {
     "name": "stdout",
     "output_type": "stream",
     "text": [
      "layers.0.0.weight has gradient mean of 0.00020173587836325169\n",
      "layers.1.0.weight has gradient mean of 0.00012011159560643137\n",
      "layers.2.0.weight has gradient mean of 0.0007152039906941354\n",
      "layers.3.0.weight has gradient mean of 0.0013988736318424344\n",
      "layers.4.0.weight has gradient mean of 0.005049645435065031\n"
     ]
    }
   ],
   "source": [
    "print_gradients(model_without_shortcut, sample_input)\n"
   ]
  },
  {
   "cell_type": "code",
   "execution_count": 25,
   "metadata": {},
   "outputs": [
    {
     "name": "stdout",
     "output_type": "stream",
     "text": [
      "layers.0.0.weight has gradient mean of 0.22169792652130127\n",
      "layers.1.0.weight has gradient mean of 0.20694106817245483\n",
      "layers.2.0.weight has gradient mean of 0.32896995544433594\n",
      "layers.3.0.weight has gradient mean of 0.2665732204914093\n",
      "layers.4.0.weight has gradient mean of 1.3258540630340576\n"
     ]
    }
   ],
   "source": [
    "torch.manual_seed(123)\n",
    "model_with_shortcut = ExampleDeepNeuralNetwork(\n",
    "    layer_sizes, use_shortcut=True\n",
    ")\n",
    "'''\n",
    "마지막 레이어(layers.4)는 여전히 다른 레이어들보다 더 큰 기울기를 가지고 있지만, \n",
    "첫 번째 레이어(layers.0)로 갈수록 기울기 값이 안정화되며 매우 작은 값으로 줄어들지는 않으ㅁ\n",
    "결론적으로, 딥러닝 신경망에서 기울기 소실 문제를 극복하기 위해서는 잔차 연결(shortcut connections)이 중요함\n",
    "잔차 연결은 LLM의 핵심 구성 요소이며, GPT 모델을 훈련할 때 각 레이어에서 일관된 기울기 흐름을 보장하여 더 효과적인 훈련을 가능하게 힘.\n",
    "'''\n",
    "print_gradients(model_with_shortcut, sample_input)"
   ]
  },
  {
   "cell_type": "code",
   "execution_count": 26,
   "metadata": {},
   "outputs": [],
   "source": [
    "#ToDo) 레이어 정규화, GELU 활성화 함수, 피드포워드 모듈, 잔차 연결을 트랜스포머 블록과 연결"
   ]
  },
  {
   "cell_type": "code",
   "execution_count": null,
   "metadata": {},
   "outputs": [],
   "source": []
  }
 ],
 "metadata": {
  "kernelspec": {
   "display_name": "gpt-pytorch-TJf4lFQj-py3.11",
   "language": "python",
   "name": "python3"
  },
  "language_info": {
   "codemirror_mode": {
    "name": "ipython",
    "version": 3
   },
   "file_extension": ".py",
   "mimetype": "text/x-python",
   "name": "python",
   "nbconvert_exporter": "python",
   "pygments_lexer": "ipython3",
   "version": "3.11.9"
  }
 },
 "nbformat": 4,
 "nbformat_minor": 2
}
